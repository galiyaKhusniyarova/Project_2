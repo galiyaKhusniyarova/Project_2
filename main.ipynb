{
 "cells": [
  {
   "cell_type": "code",
   "execution_count": null,
   "id": "1ab12355-2d86-4ee5-b71c-476855263a1a",
   "metadata": {},
   "outputs": [],
   "source": [
    "import pandas as pd\n",
    "import numpy as np\n",
    "import os\n",
    "import glob\n",
    "from pathlib import Path\n",
    "import datetime as dt\n",
    "%matplotlib inline\n",
    "from sklearn.model_selection import train_test_split\n",
    "from sklearn.linear_model import LogisticRegression\n",
    "from sklearn.preprocessing import StandardScaler,OneHotEncoder"
   ]
  },
  {
   "cell_type": "markdown",
   "id": "b3df3e9a-dcb8-4225-ab45-9a030b3785df",
   "metadata": {},
   "source": [
    "### Read realtor data"
   ]
  },
  {
   "cell_type": "code",
   "execution_count": null,
   "id": "fcb93420-f06e-494e-bf44-1a97f5b0995b",
   "metadata": {},
   "outputs": [],
   "source": [
    "realtor_2018_data = pd.read_csv(\n",
    "    Path(\"realtor_data/2018_realtor_data.csv\"))\n",
    "realtor_2019_data = pd.read_csv(\n",
    "    Path(\"realtor_data/2019_realtor_data.csv\"))\n",
    "display(realtor_2018_data)"
   ]
  },
  {
   "cell_type": "code",
   "execution_count": null,
   "id": "8cdb4222-913f-4b27-bb00-850d35c85d22",
   "metadata": {},
   "outputs": [],
   "source": [
    "csv_files = glob.glob('realtor_data/*')\n",
    "csv_files"
   ]
  },
  {
   "cell_type": "markdown",
   "id": "6a048e19-3d0c-48f9-a5b5-de04cef31128",
   "metadata": {},
   "source": [
    "### Merge realtor data"
   ]
  },
  {
   "cell_type": "code",
   "execution_count": null,
   "id": "e3dc99db-82b1-4e6f-98da-df58b84c8d27",
   "metadata": {},
   "outputs": [],
   "source": [
    "realtor_data = pd.DataFrame()\n",
    "\n",
    "for file in csv_files:\n",
    "            df_temp = pd.read_csv(file)\n",
    "            realtor_data = realtor_data.append(df_temp)\n",
    "            \n",
    "realtor_data.set_index(\"zip_code\", drop=True, inplace=True)\n",
    "\n",
    "display(realtor_data)"
   ]
  },
  {
   "cell_type": "markdown",
   "id": "2d3f334a-e7bf-4ba0-aa2a-ca0f9b242ad7",
   "metadata": {
    "tags": []
   },
   "source": [
    "### Merge IRS data"
   ]
  },
  {
   "cell_type": "code",
   "execution_count": null,
   "id": "dfa5e2de-1027-4d49-bbcf-5f90d7024cda",
   "metadata": {},
   "outputs": [],
   "source": [
    "csv_files = glob.glob('IRS_Income_tax_data/*.csv')\n",
    "csv_files"
   ]
  },
  {
   "cell_type": "code",
   "execution_count": null,
   "id": "e11c107c-4330-4a5d-99f6-bc334ae434de",
   "metadata": {},
   "outputs": [],
   "source": [
    "IRS_sliced_data = pd.DataFrame()\n",
    "\n",
    "for file in csv_files:\n",
    "            df_temp = pd.read_csv(file)\n",
    "            IRS_sliced_data = IRS_sliced_data.append(df_temp, ignore_index=True)\n",
    "            \n",
    "display(IRS_sliced_data)"
   ]
  },
  {
   "cell_type": "code",
   "execution_count": null,
   "id": "89fe4cc9-516b-4f3b-bc1b-9cfdb106d221",
   "metadata": {},
   "outputs": [],
   "source": [
    "# Set the Index to zip-code\n",
    "IRS_sliced_data.rename(columns = {'zipcode':'zip_code'}, inplace=True)\n",
    "IRS_sliced_data.set_index('zip_code', drop=True, inplace=True)\n",
    "\n",
    "display(IRS_sliced_data)"
   ]
  },
  {
   "cell_type": "markdown",
   "id": "803bc69c-2231-40bf-8e96-67006755a627",
   "metadata": {},
   "source": [
    "### Merge realtor and IRS data on zip_code (left join)"
   ]
  },
  {
   "cell_type": "code",
   "execution_count": null,
   "id": "a1bb5b1d-ee46-4630-8539-a69af04b8b7d",
   "metadata": {},
   "outputs": [],
   "source": [
    "df1 = realtor_data.merge(IRS_sliced_data, how = 'left', on = \"zip_code\")\n",
    "df1.drop(columns=[\"state\"], inplace = True)"
   ]
  },
  {
   "cell_type": "markdown",
   "id": "9fd656c1-83da-4d31-91b4-aae58ed6ed6f",
   "metadata": {},
   "source": [
    "## The final DataFrame we are going to work with!!!"
   ]
  },
  {
   "cell_type": "code",
   "execution_count": null,
   "id": "f9df6642-c52f-4e89-a77f-d4d7896c9296",
   "metadata": {},
   "outputs": [],
   "source": [
    "display(df1)"
   ]
  },
  {
   "cell_type": "markdown",
   "id": "8159c033-aa9b-4ad2-a304-f3ac8d2c2171",
   "metadata": {
    "tags": []
   },
   "source": [
    "# Prepare the realtor data"
   ]
  },
  {
   "cell_type": "code",
   "execution_count": null,
   "id": "80522bae-922a-43ec-89af-12cf6a68ccfe",
   "metadata": {},
   "outputs": [],
   "source": [
    "realtor_data.reset_index()\n",
    "#realtor_data.set_index(\"sold_date\", inplace = True)\n",
    "display(realtor_data)"
   ]
  },
  {
   "cell_type": "markdown",
   "id": "89e622b5-2209-4ce0-8f23-c9f40f448a4a",
   "metadata": {},
   "source": [
    "# Encode the dataset’s categorical variables using OneHotEncoder"
   ]
  },
  {
   "cell_type": "code",
   "execution_count": null,
   "id": "caa65310-6b25-4f3d-8dfc-931396015cc1",
   "metadata": {},
   "outputs": [],
   "source": [
    "# Create a list of categorical variables \n",
    "categorical_variables = list(df1.dtypes[df1.dtypes == \"object\"].index)"
   ]
  },
  {
   "cell_type": "code",
   "execution_count": null,
   "id": "29c74aa0-627c-4063-b293-e5abef8191f0",
   "metadata": {},
   "outputs": [],
   "source": [
    "display(categorical_variables)"
   ]
  },
  {
   "cell_type": "code",
   "execution_count": null,
   "id": "d64aa3f0-aa1f-467d-a927-97bb2b073851",
   "metadata": {},
   "outputs": [],
   "source": [
    "enc = OneHotEncoder(sparse=False)"
   ]
  },
  {
   "cell_type": "code",
   "execution_count": null,
   "id": "b316386b-99b4-4c28-b493-ad18f64171b9",
   "metadata": {},
   "outputs": [],
   "source": [
    "encoded_data = enc.fit_transform(df1[categorical_variables])"
   ]
  },
  {
   "cell_type": "code",
   "execution_count": null,
   "id": "dfe33be1-f8d6-46cf-aaeb-9a76541a2a4d",
   "metadata": {},
   "outputs": [],
   "source": [
    "encoded_df = pd.DataFrame(\n",
    "    encoded_data,\n",
    "    columns = enc.get_feature_names_out(categorical_variables)\n",
    ")"
   ]
  },
  {
   "cell_type": "code",
   "execution_count": null,
   "id": "21e67779-87ec-4f00-adbb-1baf6ef54d93",
   "metadata": {},
   "outputs": [],
   "source": [
    "display(encoded_df)"
   ]
  },
  {
   "cell_type": "markdown",
   "id": "220c972c-aff0-405a-919d-77aa7bbb3edf",
   "metadata": {},
   "source": [
    "# Apply Logistic Regression"
   ]
  },
  {
   "cell_type": "markdown",
   "id": "a039267a-2e81-4deb-9438-528e4cc8d0e6",
   "metadata": {},
   "source": [
    "# Split training into testing sets (Create X, or features DataFrame, and create y, or target DataFrame)"
   ]
  },
  {
   "cell_type": "code",
   "execution_count": null,
   "id": "8646f53e-7fec-43fd-85ea-228303bf2320",
   "metadata": {},
   "outputs": [],
   "source": [
    "features = df1[['STATE', 'A18425']]\n",
    "\n",
    "target = df1['price']"
   ]
  },
  {
   "cell_type": "code",
   "execution_count": null,
   "id": "3a253d24-3438-48e6-bf2c-5923faec14e4",
   "metadata": {},
   "outputs": [],
   "source": [
    "training_features, testing_features, training_targets, testing_targets = train_test_split(features, target)"
   ]
  },
  {
   "cell_type": "code",
   "execution_count": null,
   "id": "76fa4764-81fa-468e-aa2b-d26dd670c492",
   "metadata": {},
   "outputs": [],
   "source": [
    "training_features"
   ]
  },
  {
   "cell_type": "markdown",
   "id": "42d4ead7-1da9-4db0-a43d-57e59ac69325",
   "metadata": {},
   "source": [
    "# Create and use a classifier that can predict whether the house sold price price will be higher or lower"
   ]
  },
  {
   "cell_type": "code",
   "execution_count": null,
   "id": "fbba2854-9919-49df-807c-6fbe103958aa",
   "metadata": {},
   "outputs": [],
   "source": [
    "logistic_regression_model = LogisticRegression()"
   ]
  },
  {
   "cell_type": "markdown",
   "id": "50870ac2-1dd5-4807-b07a-bad081fc0d9b",
   "metadata": {},
   "source": [
    "# Fit: Train the Model by supplying it with some training it"
   ]
  },
  {
   "cell_type": "code",
   "execution_count": null,
   "id": "fcc34eab-92ec-43a7-a4ca-3e0aa85f1513",
   "metadata": {},
   "outputs": [],
   "source": [
    "logistic_regression_model.fit(training_features, training_targets)"
   ]
  },
  {
   "cell_type": "markdown",
   "id": "50ccc1a4-4768-4e39-8523-d0b84250f52a",
   "metadata": {},
   "source": [
    "# Generate predictions from the model we just fit"
   ]
  },
  {
   "cell_type": "code",
   "execution_count": null,
   "id": "6384f2f9-537a-45e6-854f-69fd44397f82",
   "metadata": {},
   "outputs": [],
   "source": [
    "predictions = logistic_regression_model.predict(training_features)"
   ]
  },
  {
   "cell_type": "code",
   "execution_count": null,
   "id": "7c059f34-ba5f-4fce-9967-b8777da31a58",
   "metadata": {},
   "outputs": [],
   "source": [
    "results_df = pd.DataFrame({\"Prediction\": predictions, \"Actual\": training_targets})\n",
    "results_df"
   ]
  },
  {
   "cell_type": "markdown",
   "id": "2617e783-bdf0-4743-add0-7defe5848264",
   "metadata": {},
   "source": [
    "# Apply the fitted model to the test dataset"
   ]
  },
  {
   "cell_type": "code",
   "execution_count": null,
   "id": "f0c139e1-4ee9-4ed1-8508-c5ce4902c205",
   "metadata": {},
   "outputs": [],
   "source": [
    "testing_predictions = logistic_regression_model.predict(testing_features)"
   ]
  },
  {
   "cell_type": "code",
   "execution_count": null,
   "id": "d036212c-1be2-417c-a02b-4137944927f1",
   "metadata": {},
   "outputs": [],
   "source": [
    "results_df = pd.DataFrame({\n",
    "    \"Testing Data Predictions\": testing_predictions,\n",
    "    \"Testing Data Actual Targets\": testing_targets})\n",
    "results_df"
   ]
  },
  {
   "cell_type": "markdown",
   "id": "7de41ed9-bf66-4494-bdb5-7daaa609fdfc",
   "metadata": {},
   "source": [
    "# Compare each predicted value to its actual value"
   ]
  },
  {
   "cell_type": "code",
   "execution_count": null,
   "id": "6e7c69d7-83a3-49ba-8be0-798ee8e0a257",
   "metadata": {},
   "outputs": [],
   "source": [
    "from sklearn.metrics import accuracy_score"
   ]
  },
  {
   "cell_type": "code",
   "execution_count": null,
   "id": "f58d636f-d4a2-44ca-baba-e31947c92223",
   "metadata": {},
   "outputs": [],
   "source": [
    "accuracy_score(testing_targets, testing_predictions)"
   ]
  },
  {
   "cell_type": "markdown",
   "id": "17951577-1420-47d4-9a1c-c2565d21502b",
   "metadata": {},
   "source": [
    "# We evaluated the model predictions. If high accuracy (closer to 1) it may ean that there is overfitting which may mean that the model won't perform well on new data it was not trained on"
   ]
  },
  {
   "cell_type": "markdown",
   "id": "94a4933c-b821-4c1a-b040-eacd56787cda",
   "metadata": {},
   "source": [
    "# We can categorize the predictions on higher house prices or lower house prices according to a confusion matrix."
   ]
  },
  {
   "cell_type": "code",
   "execution_count": null,
   "id": "5288464d-5889-4d9e-b67d-1573e1e0f9a4",
   "metadata": {},
   "outputs": [],
   "source": []
  }
 ],
 "metadata": {
  "kernelspec": {
   "display_name": "dev",
   "language": "python",
   "name": "dev"
  },
  "language_info": {
   "codemirror_mode": {
    "name": "ipython",
    "version": 3
   },
   "file_extension": ".py",
   "mimetype": "text/x-python",
   "name": "python",
   "nbconvert_exporter": "python",
   "pygments_lexer": "ipython3",
   "version": "3.9.13"
  }
 },
 "nbformat": 4,
 "nbformat_minor": 5
}
